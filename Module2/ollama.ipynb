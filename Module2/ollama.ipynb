{
 "cells": [
  {
   "cell_type": "code",
   "execution_count": 22,
   "id": "6461bf1c-68b1-4723-88ec-be6f5225281e",
   "metadata": {},
   "outputs": [
    {
     "name": "stdout",
     "output_type": "stream",
     "text": [
      "--2024-07-22 21:45:24--  https://raw.githubusercontent.com/DataTalksClub/llm-zoomcamp/main/01-intro/documents.json\n",
      "Resolving raw.githubusercontent.com (raw.githubusercontent.com)... 185.199.111.133, 185.199.108.133, 185.199.109.133, ...\n",
      "Connecting to raw.githubusercontent.com (raw.githubusercontent.com)|185.199.111.133|:443... connected.\n",
      "HTTP request sent, awaiting response... 200 OK\n",
      "Length: 658332 (643K) [text/plain]\n",
      "Saving to: ‘documents.json.1’\n",
      "\n",
      "documents.json.1    100%[===================>] 642.90K  --.-KB/s    in 0.02s   \n",
      "\n",
      "2024-07-22 21:45:25 (26.4 MB/s) - ‘documents.json.1’ saved [658332/658332]\n",
      "\n"
     ]
    }
   ],
   "source": [
    "!wget https://raw.githubusercontent.com/DataTalksClub/llm-zoomcamp/main/01-intro/documents.json"
   ]
  },
  {
   "cell_type": "code",
   "execution_count": 23,
   "id": "c56cda62-796e-4bc8-a1b9-398dcf0eaa27",
   "metadata": {},
   "outputs": [
    {
     "name": "stdout",
     "output_type": "stream",
     "text": [
      "--2024-07-22 21:45:25--  https://raw.githubusercontent.com/slv-ai/LLM-zoomcamp/main/Module1/minsearch.py\n",
      "Resolving raw.githubusercontent.com (raw.githubusercontent.com)... 185.199.108.133, 185.199.111.133, 185.199.110.133, ...\n",
      "Connecting to raw.githubusercontent.com (raw.githubusercontent.com)|185.199.108.133|:443... connected.\n",
      "HTTP request sent, awaiting response... 200 OK\n",
      "Length: 2222 (2.2K) [text/plain]\n",
      "Saving to: ‘minsearch.py.1’\n",
      "\n",
      "minsearch.py.1      100%[===================>]   2.17K  --.-KB/s    in 0s      \n",
      "\n",
      "2024-07-22 21:45:25 (28.1 MB/s) - ‘minsearch.py.1’ saved [2222/2222]\n",
      "\n"
     ]
    }
   ],
   "source": [
    "!wget https://raw.githubusercontent.com/slv-ai/LLM-zoomcamp/main/Module1/minsearch.py"
   ]
  },
  {
   "cell_type": "code",
   "execution_count": 24,
   "id": "c7586b0e-4a09-4ff3-abd9-a824902eb8b4",
   "metadata": {},
   "outputs": [],
   "source": [
    "import requests \n",
    "import minsearch\n",
    "import json"
   ]
  },
  {
   "cell_type": "code",
   "execution_count": 25,
   "id": "338dcb15-863a-4c80-8987-a12ce3f60e4c",
   "metadata": {},
   "outputs": [],
   "source": [
    "with open('documents.json','rt') as f_in:\n",
    "    docs_raw=json.load(f_in)"
   ]
  },
  {
   "cell_type": "code",
   "execution_count": 26,
   "id": "45036671-6960-4319-9fa0-f4878e1278d9",
   "metadata": {},
   "outputs": [
    {
     "data": {
      "text/plain": [
       "<minsearch.Index at 0x79abc6153430>"
      ]
     },
     "execution_count": 26,
     "metadata": {},
     "output_type": "execute_result"
    }
   ],
   "source": [
    "documents = []\n",
    "\n",
    "for course in docs_raw:\n",
    "    course_name = course['course']\n",
    "\n",
    "    for doc in course['documents']:\n",
    "        doc['course'] = course_name\n",
    "        documents.append(doc)\n",
    "\n",
    "index = minsearch.Index(\n",
    "    text_fields=[\"question\", \"text\", \"section\"],\n",
    "    keyword_fields=[\"course\"]\n",
    ")\n",
    "\n",
    "index.fit(documents)"
   ]
  },
  {
   "cell_type": "code",
   "execution_count": 27,
   "id": "940ae5f6-ad31-40a2-9a2b-dd954783a9fd",
   "metadata": {},
   "outputs": [
    {
     "data": {
      "text/plain": [
       "{'text': \"The purpose of this document is to capture frequently asked technical questions\\nThe exact day and hour of the course will be 15th Jan 2024 at 17h00. The course will start with the first  “Office Hours'' live.1\\nSubscribe to course public Google Calendar (it works from Desktop only).\\nRegister before the course starts using this link.\\nJoin the course Telegram channel with announcements.\\nDon’t forget to register in DataTalks.Club's Slack and join the channel.\",\n",
       " 'section': 'General course-related questions',\n",
       " 'question': 'Course - When will the course start?',\n",
       " 'course': 'data-engineering-zoomcamp'}"
      ]
     },
     "execution_count": 27,
     "metadata": {},
     "output_type": "execute_result"
    }
   ],
   "source": [
    "documents[0]"
   ]
  },
  {
   "cell_type": "code",
   "execution_count": 28,
   "id": "3d5fd07b-e760-45fb-a218-4d231ab2c02b",
   "metadata": {},
   "outputs": [],
   "source": [
    "def search(query):\n",
    "    boost = {'question': 3.0, 'section': 0.5}\n",
    "\n",
    "    results = index.search(\n",
    "        query=query,\n",
    "        filter_dict={'course': 'data-engineering-zoomcamp'},\n",
    "        boost_dict=boost,\n",
    "        num_results=5\n",
    "    )\n",
    "\n",
    "    return results"
   ]
  },
  {
   "cell_type": "code",
   "execution_count": 29,
   "id": "c2494c36-2ec5-4106-82c1-42ae644f873a",
   "metadata": {},
   "outputs": [],
   "source": [
    "def build_prompt(query, search_results):\n",
    "    prompt_template = \"\"\"\n",
    "You're a course teaching assistant. Answer the QUESTION based on the CONTEXT from the FAQ database.\n",
    "Use only the facts from the CONTEXT when answering the QUESTION.\n",
    "\n",
    "QUESTION: {question}\n",
    "\n",
    "CONTEXT: \n",
    "{context}\n",
    "\"\"\".strip()\n",
    "\n",
    "    context = \"\"\n",
    "    \n",
    "    for doc in search_results:\n",
    "        context = context + f\"section: {doc['section']}\\nquestion: {doc['question']}\\nanswer: {doc['text']}\\n\\n\"\n",
    "    \n",
    "    prompt = prompt_template.format(question=query, context=context).strip()\n",
    "    return prompt\n",
    "\n",
    "def llm(prompt):\n",
    "    response = client.chat.completions.create(\n",
    "        model='phi3',\n",
    "        messages=[{\"role\": \"user\", \"content\": prompt}]\n",
    "    )\n",
    "    \n",
    "    return response.choices[0].message.content"
   ]
  },
  {
   "cell_type": "code",
   "execution_count": 30,
   "id": "d6eccf35-78b7-46d8-b7af-d121e3d016d4",
   "metadata": {},
   "outputs": [],
   "source": [
    "from openai import OpenAI\n",
    "\n",
    "client = OpenAI(\n",
    "    base_url='http://localhost:11434/v1/',\n",
    "    api_key='ollama',\n",
    ")"
   ]
  },
  {
   "cell_type": "code",
   "execution_count": 31,
   "id": "caa1b2e1-f96a-4f69-bd7d-23f5868eee40",
   "metadata": {},
   "outputs": [],
   "source": [
    "def rag(query):\n",
    "    search_results = search(query)\n",
    "    prompt = build_prompt(query, search_results)\n",
    "    answer = llm(prompt)\n",
    "    return answer"
   ]
  },
  {
   "cell_type": "code",
   "execution_count": 32,
   "id": "86afe760-0b06-4c3e-aaa5-8b4781c8e850",
   "metadata": {},
   "outputs": [
    {
     "data": {
      "text/plain": [
       "\" Joining a course typically involves following specific procedures rather than having open admission. You usually need to express your interest in joining and then proceed with any necessary steps required by the institution or organization offering the course. Here's what you might do:\\n\\n1. **Research** - First, find out if there are still available spots for new students on the desired course level (beginner, intermediate, advanced, etc.). This information can often be found directly from the educational institution’s website or by contacting their admissions office. \\n\\n2. **Express Interest** - If you're not already enrolled and it appears that there are still openings: write to them expressing your interest in joining the course, ensider email as a quicker form of communication while others may prefer applications via physical letters or online forms. Your tone should be professional yet enthusiastic about learning from their institution.\\n\\n3. **Meet Requirements** - Most courses have specific prerequisites and requirements that need to be met, like language proficiency if the course is in another language. Make sure you've fulfilled all these conditions before applying or expressing your interest formally. \\n\\n4. **Complete Application Forms (if required)** - If they require an application form which may include personal details, educational background information, and possibly references or testimonials from previous experiences with their courses; fill this out accurately. For online forms ensure that you have a computer and stable internet connection handy for submission process as well- \\n\\n5. **Submit Required Documentation** - Some institutions might require additional documents like copies of your educational certificates, identification proof etc to verify eligibility based on age or previous education qualification levels (if applicable). Gather these prior so that they're ready when needed for submission along with the application forms\\n\\n6. **Wait For Response / Enrollment Confirmation** - After you submit all your applications and necessary documentation, wait patiently for a response from their admissions department about acceptance status or further steps in enrolling themselves into an available course slot if still open (it might take some days). They'll guide on next phases like registration deadlines to secure spots.\\n\\nRemember always respect any guidelines provided by them and act promptly without delay, as these courses are likely sought after with limited seats being offered due their perceived value in language education within your community!\""
      ]
     },
     "execution_count": 32,
     "metadata": {},
     "output_type": "execute_result"
    }
   ],
   "source": [
    "llm(\"i want to join the course, can i join it?\")"
   ]
  },
  {
   "cell_type": "code",
   "execution_count": 21,
   "id": "71ce1f31-c15c-4755-b71d-36821e7e9d82",
   "metadata": {},
   "outputs": [
    {
     "data": {
      "text/plain": [
       "\" I'm sorry, but as an AI developed by Microsoft up until my last update in April 2decade or so (which does not include the current year), I don't have direct access to live courses. However, if a course you are interested in has started and is being taught through some educational platform like Coursera, edX, Udacity, or others, here is what your best steps would likely be:\\n\\n1. **Check for Enrollment**: First of all, look into whether the enrollment period is still open. This will vary depending on when exactly you are trying to join and how long courses typically run. Sometimes course providers extend periods after a program has started if there's significant demand or interest in continuing education beyond the initial term.\\n\\n2. **Promptly Enroll**: If it's still open for enrollment, go ahead as soon as possible to secure your spot. Popular courses can fill up quickly!\\n\\n3. **Reach Out Directly if Necessary**: In some cases, you may need help or guidance which is understandable; reaching out directly to the course instructor (if contact information is available) might be an option when enrollment windows are nearing closure and immediate assistance isn't possible through other means.\\n\\n4. **Alternative Courses**: If this particular course has ended, there may still be options for learning by self-study from pre-recorded materials or review sections within the platform if offered. These alternatives can help you catch up without formally enrolling in a live session that's already completed.\\n\\n5. **Future Enrollment**: Some platforms offer courses to return students and may give priority registration for those who have previously taken their classes, so it might be worth checking on this policy if the course has indeed ended but is still available afterwards or next term.\\n\\n6. **Waitlist Option (if any)**: In rare cases where you've missed an enrollment period by a tiny margin of seconds and no future sessions are scheduled in time for your schedule, some institutions may offer waitlists to fill their final seats if space allows even after the course has started officially—but this is uncommon.\\n\\n7. **Networking**: You could also reach out within educational communities online or on social media platforms where professionals might share insights about current courses and future ones that you can join instead, maintaining your education momentum without formal enrollment after a course has begun teaching the students already. \\n\\nRemember to check with reliable sources for accurate information regarding any specific platform's policies as these may change over time or based on particular circumstances such as high demand courses going into waiting lists earlier than usual.\""
      ]
     },
     "execution_count": 21,
     "metadata": {},
     "output_type": "execute_result"
    }
   ],
   "source": [
    "llm(\"course has started, can i still join it?\")"
   ]
  }
 ],
 "metadata": {
  "kernelspec": {
   "display_name": "Python 3 (ipykernel)",
   "language": "python",
   "name": "python3"
  },
  "language_info": {
   "codemirror_mode": {
    "name": "ipython",
    "version": 3
   },
   "file_extension": ".py",
   "mimetype": "text/x-python",
   "name": "python",
   "nbconvert_exporter": "python",
   "pygments_lexer": "ipython3",
   "version": "3.10.13"
  }
 },
 "nbformat": 4,
 "nbformat_minor": 5
}
